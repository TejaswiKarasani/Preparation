{
 "cells": [
  {
   "cell_type": "code",
   "execution_count": 4,
   "metadata": {},
   "outputs": [
    {
     "data": {
      "text/plain": [
       "[2, 7]"
      ]
     },
     "execution_count": 4,
     "metadata": {},
     "output_type": "execute_result"
    }
   ],
   "source": [
    "# 1 https://leetcode.com/problems/two-sum/\n",
    "\n",
    "#APPROACH 1: O(n), O(n)\n",
    "def twoSum(nums, target):\n",
    "    h = {}\n",
    "    for num in nums:\n",
    "        potentialMatch = target - num\n",
    "        if potentialMatch in h:\n",
    "            return [potentialMatch, num]\n",
    "        else:\n",
    "            h[num] = True\n",
    "    return []\n",
    "\n",
    "nums = [2,7,11,15]\n",
    "target = 9\n",
    "#twoSum(nums, target)\n",
    "\n",
    "#APPROACH : O(nlogn), O(1)\n",
    "def twoSum1(nums, target):\n",
    "    nums.sort()\n",
    "    left, right = 0, len(nums) - 1\n",
    "    while left <= right:\n",
    "        potentialSum = nums[left] + nums[right] \n",
    "        if potentialSum == target:\n",
    "            return [nums[left], nums[right]]\n",
    "        elif potentialSum < target:\n",
    "            left += 1\n",
    "        else:\n",
    "            right -= 1\n",
    "    return []\n",
    "\n",
    "nums = [2,7,11,15]\n",
    "target = 9\n",
    "twoSum1(nums, target)\n",
    "\n",
    "# According to leetcode\n",
    "\"\"\"h = {}\n",
    "        for i in range(len(nums)):\n",
    "            potentialMatch = target - nums[i]\n",
    "            if potentialMatch in h:\n",
    "                return [h[potentialMatch], i]\n",
    "            else:\n",
    "                h[nums[i]] = i\n",
    "        return []\n",
    "\"\"\"\n"
   ]
  }
 ],
 "metadata": {
  "kernelspec": {
   "display_name": "Python 3",
   "language": "python",
   "name": "python3"
  },
  "language_info": {
   "codemirror_mode": {
    "name": "ipython",
    "version": 3
   },
   "file_extension": ".py",
   "mimetype": "text/x-python",
   "name": "python",
   "nbconvert_exporter": "python",
   "pygments_lexer": "ipython3",
   "version": "3.8.3"
  }
 },
 "nbformat": 4,
 "nbformat_minor": 4
}
