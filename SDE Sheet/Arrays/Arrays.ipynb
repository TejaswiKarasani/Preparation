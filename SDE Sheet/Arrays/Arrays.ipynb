{
 "cells": [
  {
   "cell_type": "code",
   "execution_count": 4,
   "metadata": {},
   "outputs": [
    {
     "data": {
      "text/plain": [
       "9"
      ]
     },
     "execution_count": 4,
     "metadata": {},
     "output_type": "execute_result"
    }
   ],
   "source": [
    "# 1 https://leetcode.com/problems/find-the-duplicate-number/\n",
    "\n",
    "# [2, 5, 9, 6, 9, 3, 8, 9, 7, 1]\n",
    "\n",
    "# Method 1: Sort and see the two consequetive numbers are euqal\n",
    "\n",
    "# O(nlogn), O(1) but distorting the array\n",
    "\n",
    "# METHOD II: Hashmap; create hashmap from 1 to N - 1 and initialize with zero; Next iterate through array and update '0' to '1'\n",
    "\n",
    "# If the hashmap already have '1' then that number is duplicate\n",
    "\n",
    "# O(N), O(N)\n",
    "\n",
    "# Method III: LinkedList cycle method [2, 5, 9, 6, 9, 3, 8, 9, 7, 1] # tortize method\n",
    "#                                     [0, 1, 2, 3, 4, 5, 6, 7, 8, 9]\n",
    "\n",
    "# 2 -> 9; 1 -> 5; 3 -> 6; 8 -> 7; 9\n",
    "\n",
    "#      2 -> 9 - - - 7\n",
    "#           |       \\\n",
    "#           1       8\n",
    "#           |       |\n",
    "#           5 - 3 - 6\n",
    "# slow - 1 step, fast - 2 steps; meet at one point(7) then fast = start point and fast, slow - one step, one step. \n",
    "#  meeting point is duplicate(9). \n",
    "# see mathematical proof in alogexpert \n",
    "\n",
    "# Proof :1) always a cycle and slow moves by 1 and fast moves by 2: they meet at 7;\n",
    "# 2) collision point - starting point = a by slow\n",
    "# fast = 2a\n",
    "# duplicate number at 'x'\n",
    "# duplicate - starting point = x\n",
    "# collision point - duplicate = x - a\n",
    "# Now, we move fast by x and slow by x(with x  - a before) now, a - x + x  = a length of cycle hence meeting\n",
    "\n",
    "\n",
    "# O(N), O(1)\n",
    "\n",
    "def findDuplicate(nums):\n",
    "        # sort and linear search O(nlog n)\n",
    "        slow, fast = nums[0], nums[0]\n",
    "        while True:\n",
    "            slow = nums[slow]\n",
    "            fast = nums[nums[fast]]\n",
    "            if slow == fast:\n",
    "                break\n",
    "        # unless they meet\n",
    "        fast = nums[0]\n",
    "        while slow != fast:\n",
    "            slow = nums[slow]\n",
    "            fast = nums[fast]\n",
    "        return slow   \n",
    "\n",
    "nums =  [2, 5, 9, 6, 9, 3, 8, 9, 7, 1]\n",
    "findDuplicate(nums)"
   ]
  },
  {
   "cell_type": "code",
   "execution_count": 2,
   "metadata": {},
   "outputs": [
    {
     "name": "stdout",
     "output_type": "stream",
     "text": [
      "[0, 0, 0, 0, 0, 1, 1, 1, 1, 1, 2, 2]\n"
     ]
    }
   ],
   "source": [
    "#2  https://leetcode.com/problems/sort-colors/\n",
    "\n",
    "# APPROACH I: Sort O(NlogN), O(1)\n",
    "\n",
    "# APPROACH II: Counting sort [0, 1, 1, 0, 1, 2, 1, 2, 0, 0, 0, 1]\n",
    "# Count of 0's - 5, 1's - 5, 2's - 2\n",
    "# Run loop for 5 times insert zeros, ones and run for 2 time and insert 2's\n",
    "# O(N) for counting, O(N) for filling array--> O(2N), O(1)\n",
    "\n",
    "\n",
    "# APPROACH III: One pass, dutch national flag algorithm\n",
    "# low , mid = start, start; high = lastposition = len(array) - 1\n",
    "# [0, low - 1] --> 0 [high + 1, n] --> 2 (left of low is zero and right of high is two's)\n",
    "# move mid pointer until it crosses high pointer\n",
    "# 0 we will move mid and if there is zero --> swap(a[low], a[mid]) --> low ++, mid++\n",
    "# 1 mid ++;\n",
    "# 2 swap(a[mid], a[high]) --> high --;\n",
    "\n",
    "# O(N), O(1) --> one pass algorithm\n",
    "\n",
    "\n",
    "def sortColors(nums):\n",
    "        \"\"\"\n",
    "        Do not return anything, modify nums in-place instead.\n",
    "        \"\"\"\n",
    "        low, mid = 0, 0\n",
    "        high = len(nums) - 1\n",
    "        \n",
    "        while mid <= high:\n",
    "            if nums[mid] == 0:\n",
    "                if mid != low:\n",
    "                    swap(mid, low, nums)\n",
    "                mid += 1\n",
    "                low += 1\n",
    "            elif nums[mid] == 1:\n",
    "                mid += 1\n",
    "            else:\n",
    "                swap(mid, high, nums)\n",
    "                high -= 1\n",
    "        print(nums)\n",
    "def swap(i, j, a):\n",
    "    a[i], a[j] = a[j], a[i]\n",
    "    \n",
    "nums = [0, 1, 1, 0, 1, 2, 1, 2, 0, 0, 0, 1]    \n",
    "sortColors(nums)\n"
   ]
  },
  {
   "cell_type": "code",
   "execution_count": null,
   "metadata": {},
   "outputs": [],
   "source": [
    "# 3 https://www.geeksforgeeks.org/find-a-repeating-and-a-missing-number/\n",
    "\n",
    "# {3, 1, 3} -> missing = 2, duplicate = 3\n",
    "# {4, 3, 6, 2, 1, 1} -> missing = 5, duplicate = 1\n",
    "\n",
    "# APPROACH I: Hashing frequency array; go through entire array; 2 - repeating number 0 - missing number\n",
    "# O(N) - frequency array O(N) - to finding ; O(N) space\n",
    "\n",
    "# APPROACH II: Neagation of index - but modifies array\n",
    "\n",
    "# APPROACH III: N(N + 1)/ 2 = S\n",
    "# Sqaures : N(N + 1)(2N + 1)/6 = S'\n",
    "# S - (elements in array)\n",
    "# (1 + 2 + 3 + 4 + 5 + 6) - (1 + 1 + 2 + 3 + 4 + 6) = (5) - (1) = missing number - repeating number = 4\n",
    "# Squares - (elements squares) = (5 square) - (1 square) = 24\n",
    "# (X + Y)(X - Y) = 24 => X + Y = 6\n",
    "# X + Y = 6 ; X - Y = 4;\n",
    "# But long\n",
    "\n",
    "\n",
    "# APPROACH IV: XOR\n",
    "# XOR of elements = X = 3\n",
    "# XOR of 1 to n elements = Y \n",
    "# X ^ Y = 4 and X , Y are duplicate and missing numbers remaing elements gets cancelled\n",
    "# 4  = 1     0     0\n",
    "#   x  0/1\n",
    "#   y  1/0\n",
    "# bukect 1: [6, 4], bucket 2: [1, 1, 2, 3] # with elements\n",
    "# bucket 1: [4, 5, 6] , [4, 6] ; bucket 2: [1, 2, 3], [1, 1, 2, 3] # with elements and 1 to n\n",
    "# bucket 1 - missing number 5; bucket 2 - additional number 1 ;we will iterate and see which is X & Y\n",
    "\n",
    "# Summary:\n",
    "# XOR all elements - X\n",
    "# X ^ (1^2^........n)\n",
    "# X ^ Y = num\n",
    "# Separate two buckets\n",
    "# Separate (1........N) in two buckets\n",
    "# XOR both baskets to find the number\n",
    "# O(5N)\n",
    "\n",
    "\n"
   ]
  },
  {
   "cell_type": "code",
   "execution_count": null,
   "metadata": {},
   "outputs": [],
   "source": [
    "# 4 https://www.geeksforgeeks.org/efficiently-merging-two-sorted-arrays-with-o1-extra-space/\n",
    "# [1, 4, 7, 8, 10], [2, 3, 9]\n",
    "\n",
    "#APPROACH I:  GET extra array [1, 4, 7, 8, 10, 2, 3, 9] and sort [1, 2, 3, 4, 7, 8, 9, 10] \n",
    "# O(N) - putting in array, O(NlogN) - for sorting, O(N) - putting it back; space O(N)\n",
    "\n",
    "#APPROACH II:Insertion sort algorithm - kinda\n",
    "# Linearly traverse to first array: swap and insertion sort\n",
    "# O(nm), O(1)\n",
    "\n",
    "#APPROACH III: GAP Algorithm method:\n",
    "# length/ 2 = 8/2= 4 ; g2 = 2; g3 = 1\n",
    "# ceil[length/2] if 3.5 then 4\n",
    "# log base 2 (n) * O(N); Auxilary space O(1)"
   ]
  },
  {
   "cell_type": "code",
   "execution_count": 1,
   "metadata": {},
   "outputs": [
    {
     "data": {
      "text/plain": [
       "6"
      ]
     },
     "execution_count": 1,
     "metadata": {},
     "output_type": "execute_result"
    }
   ],
   "source": [
    "# 5 https://leetcode.com/problems/maximum-subarray/\n",
    "# [-2, -3, 4, -1, -2, 1, 5, -3]\n",
    "\n",
    "# APPROACH I: Three loops: i, j and for sum of j elements and finding max. sum\n",
    "# O(N^3)\n",
    "\n",
    "# APPROACH II: Using two loops: for i...sum = 0; for j...sum += a[j]\n",
    "# O(N^2)\n",
    "\n",
    "# APPROACH III: Kadane's Algorithm\n",
    "# O(N), O(1)\n",
    "\n",
    "def maxSubArray(array):\n",
    "        maxEndingHere, maxSoFar = array[0], array[0] # Ateast one element\n",
    "        for num in array[1:]:\n",
    "            maxEndingHere = max(num, maxEndingHere + num)\n",
    "            maxSoFar = max(maxSoFar, maxEndingHere)\n",
    "        return maxSoFar\n",
    "    \n",
    "array = [-2,1,-3,4,-1,2,1,-5,4]\n",
    "maxSubArray(array)\n",
    "\n",
    "# follow up find the subarray"
   ]
  },
  {
   "cell_type": "code",
   "execution_count": null,
   "metadata": {},
   "outputs": [],
   "source": [
    "# 6 https://leetcode.com/problems/merge-intervals/\n",
    "# same as educative.io"
   ]
  },
  {
   "cell_type": "code",
   "execution_count": null,
   "metadata": {},
   "outputs": [],
   "source": []
  },
  {
   "cell_type": "code",
   "execution_count": 2,
   "metadata": {},
   "outputs": [
    {
     "name": "stdout",
     "output_type": "stream",
     "text": [
      "[[1, 0, 1], [0, 0, 0], [1, 0, 1]]\n"
     ]
    }
   ],
   "source": [
    "# 1 https://leetcode.com/problems/set-matrix-zeroes/\n",
    "\n",
    "# APPROACH 1: Go to every zero and replace corresponding row & col with -1(if we change to zero that might effect others)\n",
    "# After traversing through entire matrix replace -1 with 0 and return matrix\n",
    "# O(M * N) * O(M + N) ; O(1) - space\n",
    "\n",
    "#APPROACH 2: Create duplicate arrays row, col and put zero corespondingly when we find zero matrix.\n",
    "# Again traverse, and see (r, c) if anyone zero then put zero in matrix.\n",
    "# O(M * N) + O(M * N); Space: O(M) + O(N)\n",
    "\n",
    "#APPROACH 3: First row as col dummy matrix and first col as row dummy matrix\n",
    "# col = true since first element in col is 1 set col = false if 0\n",
    "# start traversing from back and starting filling by see dummy matrixes if any one zero then zero\n",
    "# 2 * O(M * N), O(1)\n",
    "\n",
    "def setZeroes(matrix):\n",
    "        \"\"\"\n",
    "        Do not return anything, modify matrix in-place instead.\n",
    "        \"\"\"\n",
    "        rows, cols = len(matrix), len(matrix[0])\n",
    "        col = True\n",
    "        \n",
    "        for i in range(rows):\n",
    "            if matrix[i][0] == 0:\n",
    "                col = False\n",
    "            for j in range(1, cols):\n",
    "                if matrix[i][j] == 0:\n",
    "                    matrix[i][0] = matrix[0][j] = 0\n",
    "                    \n",
    "        for i in reversed(range(rows)):\n",
    "            for j in range(cols - 1, 0, -1):\n",
    "                if matrix[i][0] == 0 or matrix[0][j] == 0:\n",
    "                    matrix[i][j] = 0\n",
    "            if col == False:\n",
    "                matrix[i][0] = 0\n",
    "                \n",
    "matrix = [[1,1,1],[1,0,1],[1,1,1]]               \n",
    "setZeroes(matrix)\n",
    "print(matrix)"
   ]
  },
  {
   "cell_type": "code",
   "execution_count": 3,
   "metadata": {},
   "outputs": [
    {
     "data": {
      "text/plain": [
       "[[1], [1, 1], [1, 2, 1], [1, 3, 3, 1], [1, 4, 6, 4, 1]]"
      ]
     },
     "execution_count": 3,
     "metadata": {},
     "output_type": "execute_result"
    }
   ],
   "source": [
    "# 2 https://leetcode.com/problems/pascals-triangle/\n",
    "# one row or element at 5th row col 3 - other ways of asking the same question\n",
    "# first row - one element; nth row - n elements\n",
    "# first col = last col = 1 and element = element lefttop + element righttop\n",
    "\n",
    "# PROBLEM 1: Fill step by step by adding above two elements to left and right O(N^2), O(N^2)\n",
    "# https://www.youtube.com/watch?v=gq4t3cwMQbs&feature=youtu.be\n",
    "# PROBLEM 2 : R-1 C c - 1 O(N), O(1)\n",
    "# PROBLEM 3: O(N), O(N)\n",
    "\n",
    "# n C r optimization:\n",
    "# for i in range(0, r):\n",
    "#  res *= n - i\n",
    "#  res /= i + 1\n",
    "\n",
    "def generate(numRows):\n",
    "        result = []\n",
    "        for i in range(numRows):\n",
    "            result.append([])\n",
    "            for j in range(i + 1):\n",
    "                if j in (0, i):\n",
    "                    result[i].append(1)\n",
    "                else:\n",
    "                    result[i].append(result[i - 1][j - 1] + result[i - 1][j])\n",
    "        return result\n",
    "\n",
    "numRows = 5\n",
    "generate(numRows)\n"
   ]
  },
  {
   "cell_type": "code",
   "execution_count": 6,
   "metadata": {},
   "outputs": [
    {
     "name": "stdout",
     "output_type": "stream",
     "text": [
      "[1, 3, 2]\n"
     ]
    }
   ],
   "source": [
    "# 3 https://leetcode.com/problems/next-permutation/\n",
    "# https://leetcode.com/problems/next-permutation/discuss/907155/Python-O(n)-solution-faster-than-91.63-memory-usage-less-than-99.98\n",
    "# 13542  -> 14235\n",
    "\n",
    "# Algo:\n",
    "# 1) Go from back check for a[i] < a[i + 1] => 3 => num1\n",
    "# 2) check a[i] > num1 => 4 => num2\n",
    "# 3) swap(num1, num2) => 14532\n",
    "# 4) reverse from num1 right side (excluding num1) => 14235\n",
    "\n",
    "# Intitution: TBD\n",
    "# Edge case: 54321 --> just reverse --> 12345\n",
    "\n",
    "# O(3N) = O(N), O(1)\n",
    "def nextPermutation(nums):\n",
    "        i = len(nums) - 2\n",
    "        while i > -1:\n",
    "            if nums[i] < nums[i + 1]:\n",
    "                j = len(nums) - 1\n",
    "                while j > i:\n",
    "                    if nums[j] > nums[i]:\n",
    "                        break\n",
    "                    j -= 1\n",
    "                nums[i], nums[j] = nums[j], nums[i]\n",
    "                break\n",
    "            i -= 1\n",
    "        nums[i + 1:] = reversed(nums[i + 1:])\n",
    "        print(nums)\n",
    "        \n",
    "nums = [1,2,3]\n",
    "nextPermutation(nums)"
   ]
  }
 ],
 "metadata": {
  "kernelspec": {
   "display_name": "Python 3",
   "language": "python",
   "name": "python3"
  },
  "language_info": {
   "codemirror_mode": {
    "name": "ipython",
    "version": 3
   },
   "file_extension": ".py",
   "mimetype": "text/x-python",
   "name": "python",
   "nbconvert_exporter": "python",
   "pygments_lexer": "ipython3",
   "version": "3.8.3"
  }
 },
 "nbformat": 4,
 "nbformat_minor": 4
}
