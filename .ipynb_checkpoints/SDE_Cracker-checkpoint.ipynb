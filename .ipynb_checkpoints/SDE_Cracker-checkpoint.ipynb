{
 "cells": [
  {
   "cell_type": "code",
   "execution_count": 4,
   "metadata": {},
   "outputs": [
    {
     "data": {
      "text/plain": [
       "9"
      ]
     },
     "execution_count": 4,
     "metadata": {},
     "output_type": "execute_result"
    }
   ],
   "source": [
    "# 1 https://leetcode.com/problems/find-the-duplicate-number/\n",
    "\n",
    "# [2, 5, 9, 6, 9, 3, 8, 9, 7, 1]\n",
    "\n",
    "# Method 1: Sort and see the two consequetive numbers are euqal\n",
    "\n",
    "# O(nlogn), O(1) but distorting the array\n",
    "\n",
    "# METHOD II: Hashmap; create hashmap from 1 to N - 1 and initialize with zero; Next iterate through array and update '0' to '1'\n",
    "\n",
    "# If the hashmap already have '1' then that number is duplicate\n",
    "\n",
    "# O(N), O(N)\n",
    "\n",
    "# Method III: LinkedList cycle method [2, 5, 9, 6, 9, 3, 8, 9, 7, 1] # tortize method\n",
    "#                                     [0, 1, 2, 3, 4, 5, 6, 7, 8, 9]\n",
    "\n",
    "# 2 -> 9; 1 -> 5; 3 -> 6; 8 -> 7; 9\n",
    "\n",
    "#      2 -> 9 - - - 7\n",
    "#           |       \\\n",
    "#           1       8\n",
    "#           |       |\n",
    "#           5 - 3 - 6\n",
    "# slow - 1 step, fast - 2 steps; meet at one point(7) then fast = start point and fast, slow - one step, one step. \n",
    "#  meeting point is duplicate(9). \n",
    "# see mathematical proof in alogexpert \n",
    "\n",
    "# Proof :1) always a cycle and slow moves by 1 and fast moves by 2: they meet at 7;\n",
    "# 2) collision point - starting point = a by slow\n",
    "# fast = 2a\n",
    "# duplicate number at 'x'\n",
    "# duplicate - starting point = x\n",
    "# collision point - duplicate = x - a\n",
    "# Now, we move fast by x and slow by x(with x  - a before) now, a - x + x  = a length of cycle hence meeting\n",
    "\n",
    "\n",
    "# O(N), O(1)\n",
    "\n",
    "def findDuplicate(nums):\n",
    "        # sort and linear search O(nlog n)\n",
    "        slow, fast = nums[0], nums[0]\n",
    "        while True:\n",
    "            slow = nums[slow]\n",
    "            fast = nums[nums[fast]]\n",
    "            if slow == fast:\n",
    "                break\n",
    "        # unless they meet\n",
    "        fast = nums[0]\n",
    "        while slow != fast:\n",
    "            slow = nums[slow]\n",
    "            fast = nums[fast]\n",
    "        return slow   \n",
    "\n",
    "nums =  [2, 5, 9, 6, 9, 3, 8, 9, 7, 1]\n",
    "findDuplicate(nums)"
   ]
  },
  {
   "cell_type": "code",
   "execution_count": null,
   "metadata": {},
   "outputs": [],
   "source": [
    "#2  https://leetcode.com/problems/sort-colors/\n",
    "\n"
   ]
  }
 ],
 "metadata": {
  "kernelspec": {
   "display_name": "Python 3",
   "language": "python",
   "name": "python3"
  },
  "language_info": {
   "codemirror_mode": {
    "name": "ipython",
    "version": 3
   },
   "file_extension": ".py",
   "mimetype": "text/x-python",
   "name": "python",
   "nbconvert_exporter": "python",
   "pygments_lexer": "ipython3",
   "version": "3.8.3"
  }
 },
 "nbformat": 4,
 "nbformat_minor": 4
}
