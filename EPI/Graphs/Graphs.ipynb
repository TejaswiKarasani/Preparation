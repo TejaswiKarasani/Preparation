{
 "cells": [
  {
   "cell_type": "code",
   "execution_count": 3,
   "metadata": {},
   "outputs": [
    {
     "name": "stdout",
     "output_type": "stream",
     "text": [
      "a\n",
      "c\n",
      "b\n",
      "e\n",
      "d\n",
      "{'b', 'c', 'a', 'e', 'd'}\n"
     ]
    }
   ],
   "source": [
    "G = { \"a\" : [\"c\"],\n",
    "          \"b\" : [\"c\", \"e\"],\n",
    "          \"c\" : [\"a\", \"b\", \"d\", \"e\"],\n",
    "          \"d\" : [\"c\"],\n",
    "          \"e\" : [\"c\", \"b\"],\n",
    "          \"f\" : []\n",
    "        } \n",
    "\n",
    "def dfs(G, s):\n",
    "    vis, S = {s}, [s]\n",
    "    print(s)\n",
    "    while S:\n",
    "        flag = 0\n",
    "        for i in G[S[-1]]:\n",
    "            if i not in vis:\n",
    "                S.append(i)\n",
    "                vis.add(i)\n",
    "                flag = 1\n",
    "                print(i)\n",
    "                break\n",
    "        if not flag:\n",
    "            S.pop()\n",
    "dfs(G, 'a')"
   ]
  },
  {
   "cell_type": "code",
   "execution_count": 5,
   "metadata": {},
   "outputs": [
    {
     "name": "stdout",
     "output_type": "stream",
     "text": [
      "a\n",
      "c\n",
      "b\n",
      "d\n",
      "e\n"
     ]
    }
   ],
   "source": [
    "G = { \"a\" : [\"c\"],\n",
    "          \"b\" : [\"c\", \"e\"],\n",
    "          \"c\" : [\"a\", \"b\", \"d\", \"e\"],\n",
    "          \"d\" : [\"c\"],\n",
    "          \"e\" : [\"c\", \"b\"],\n",
    "          \"f\" : []\n",
    "        } \n",
    "from collections import deque\n",
    "def bfs(G, s):\n",
    "    vis, Q = {s}, deque([s])\n",
    "    print(s)\n",
    "    while Q:\n",
    "        u = Q.popleft()\n",
    "        for v in G[u]:\n",
    "            if v not in vis:\n",
    "                vis.add(v)\n",
    "                Q.append(v)\n",
    "                print(v)\n",
    "bfs(G, 'a')"
   ]
  }
 ],
 "metadata": {
  "kernelspec": {
   "display_name": "Python 3",
   "language": "python",
   "name": "python3"
  },
  "language_info": {
   "codemirror_mode": {
    "name": "ipython",
    "version": 3
   },
   "file_extension": ".py",
   "mimetype": "text/x-python",
   "name": "python",
   "nbconvert_exporter": "python",
   "pygments_lexer": "ipython3",
   "version": "3.8.3"
  }
 },
 "nbformat": 4,
 "nbformat_minor": 4
}
